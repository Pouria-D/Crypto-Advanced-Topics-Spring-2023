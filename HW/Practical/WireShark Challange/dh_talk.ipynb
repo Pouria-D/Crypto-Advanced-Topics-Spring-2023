{
 "cells": [
  {
   "cell_type": "markdown",
   "metadata": {
    "collapsed": true,
    "pycharm": {
     "name": "#%% md\n"
    }
   },
   "source": [
    "In the name of god\n",
    "\n",
    "advanced cryptography\n",
    "\n",
    "wireshark ctf challange\n",
    "\n",
    "Pouria Dadkhah - 401201381"
   ]
  },
  {
   "cell_type": "markdown",
   "source": [
    "First Step:\n",
    "\n",
    "Follow TCP stream from pcap file packets we see this conversation:\n",
    "\n",
    "Are you ready for a key exchange?\n",
    "\n",
    "Yep.\n",
    "\n",
    "P: 22953686867719691230002707821868552601124472329079\n",
    "\n",
    "G: 11\n",
    "\n",
    "My chosen number: 65321321\n",
    "\n",
    "Oh, no! You shoudn't send your chosen number.\n",
    "\n",
    "No problem.\n",
    "\n",
    "My public key: 22765143677454692215350940273371681210671460017738\n",
    "\n",
    "Got the shared key?\n",
    "\n",
    "Yes.\n",
    "\n",
    "Send your message.\n",
    "\n",
    "VTJGc2RHVmtYMThyZU5jSGlNbTVEQmRhdlFjcFdUYk1EUmF2TVNabUJRVEFIUzJQRWp6dndTTHJ2MXVXUFJNSQpES2xzRHFyUGZOelVZZUxLd3l0d3lBPT0K\n",
    "\n",
    "How can I read it?\n",
    "\n",
    "cat in.txt | base64 -d | openssl aes-256-cbc -d -a -pbkdf2 -k our_shared_key\n",
    "\n",
    "Thanks!"
   ],
   "metadata": {
    "collapsed": false,
    "pycharm": {
     "name": "#%% md\n"
    }
   }
  },
  {
   "cell_type": "markdown",
   "source": [
    "Second Step:\n",
    "\n",
    "The following process seems to be deffie-helman key exchange.\n",
    "\n",
    "but one party released his chosen number and we can calculate the shard key!\n",
    "\n",
    "here is endconing the key:"
   ],
   "metadata": {
    "collapsed": false,
    "pycharm": {
     "name": "#%% md\n"
    }
   }
  },
  {
   "cell_type": "code",
   "execution_count": 2,
   "outputs": [
    {
     "name": "stdout",
     "output_type": "stream",
     "text": [
      "16477643432539305193820212134537114955092883848262\n"
     ]
    }
   ],
   "source": [
    "P = 22953686867719691230002707821868552601124472329079\n",
    "G = 11\n",
    "a = 65321321\n",
    "# Pubkey = pow(G,b,P)\n",
    "PubKey = 22765143677454692215350940273371681210671460017738\n",
    "# share_key = PubKey^a mod p\n",
    "our_shared_key = pow(PubKey, a, P)\n",
    "print(our_shared_key)"
   ],
   "metadata": {
    "collapsed": false,
    "pycharm": {
     "name": "#%%\n"
    }
   }
  },
  {
   "cell_type": "markdown",
   "source": [
    "Last Step:\n",
    "\n",
    "use that shared key instead of 'our_shard_key' in command we found in stream\n",
    "to encrypt the message that has sent lines above:\n",
    "\n",
    "message: VTJGc2RHVmtYMThyZU5jSGlNbTVEQmRhdlFjcFdUYk1EUmF2TVNabUJRVEFIUzJQRWp6dndTTHJ2MXVXUFJNSQpES2xzRHFyUGZOelVZZUxLd3l0d3lBPT0K\n",
    "\n",
    "in terminal we run the following code:\n",
    "\n",
    "pouria@pouria-VM:~$ echo VTJGc2RHVmtYMThyZU5jSGlNbTVEQmRhdlFjcFdUYk1EUmF2TVNabUJRVEFIUzJQRWp6dndTTHJ2MXVXUFJNSQpES2xzRHFyUGZOelVZZUxLd3l0d3lBPT0K > in.txt\n",
    "\n",
    "pouria@pouria-VM:~$ cat in.txt | base64 -d | openssl aes-256-cbc -d -a -pbkdf2 -k 16477643432539305193820212134537114955092883848262 > flag.txt"
   ],
   "metadata": {
    "collapsed": false,
    "pycharm": {
     "name": "#%% md\n"
    }
   }
  },
  {
   "cell_type": "markdown",
   "source": [
    "the Flag is:\n",
    "\n",
    "queraCTF{D1FfIe_HeLlMaN_WA$_N0T_T0O_HarD}"
   ],
   "metadata": {
    "collapsed": false,
    "pycharm": {
     "name": "#%% md\n"
    }
   }
  }
 ],
 "metadata": {
  "kernelspec": {
   "display_name": "Python 3",
   "language": "python",
   "name": "python3"
  },
  "language_info": {
   "codemirror_mode": {
    "name": "ipython",
    "version": 2
   },
   "file_extension": ".py",
   "mimetype": "text/x-python",
   "name": "python",
   "nbconvert_exporter": "python",
   "pygments_lexer": "ipython2",
   "version": "2.7.6"
  }
 },
 "nbformat": 4,
 "nbformat_minor": 0
}